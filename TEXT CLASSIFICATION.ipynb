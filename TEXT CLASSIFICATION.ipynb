{
 "cells": [
  {
   "cell_type": "markdown",
   "id": "f2285c60",
   "metadata": {},
   "source": [
    "# Loading Dataset"
   ]
  },
  {
   "cell_type": "code",
   "execution_count": 1,
   "id": "205802c0",
   "metadata": {},
   "outputs": [
    {
     "data": {
      "text/html": [
       "<div>\n",
       "<style scoped>\n",
       "    .dataframe tbody tr th:only-of-type {\n",
       "        vertical-align: middle;\n",
       "    }\n",
       "\n",
       "    .dataframe tbody tr th {\n",
       "        vertical-align: top;\n",
       "    }\n",
       "\n",
       "    .dataframe thead th {\n",
       "        text-align: right;\n",
       "    }\n",
       "</style>\n",
       "<table border=\"1\" class=\"dataframe\">\n",
       "  <thead>\n",
       "    <tr style=\"text-align: right;\">\n",
       "      <th></th>\n",
       "      <th>Comment</th>\n",
       "      <th>Emotion</th>\n",
       "    </tr>\n",
       "  </thead>\n",
       "  <tbody>\n",
       "    <tr>\n",
       "      <th>0</th>\n",
       "      <td>i seriously hate one subject to death but now ...</td>\n",
       "      <td>fear</td>\n",
       "    </tr>\n",
       "    <tr>\n",
       "      <th>1</th>\n",
       "      <td>im so full of life i feel appalled</td>\n",
       "      <td>anger</td>\n",
       "    </tr>\n",
       "    <tr>\n",
       "      <th>2</th>\n",
       "      <td>i sit here to write i start to dig out my feel...</td>\n",
       "      <td>fear</td>\n",
       "    </tr>\n",
       "    <tr>\n",
       "      <th>3</th>\n",
       "      <td>ive been really angry with r and i feel like a...</td>\n",
       "      <td>joy</td>\n",
       "    </tr>\n",
       "    <tr>\n",
       "      <th>4</th>\n",
       "      <td>i feel suspicious if there is no one outside l...</td>\n",
       "      <td>fear</td>\n",
       "    </tr>\n",
       "  </tbody>\n",
       "</table>\n",
       "</div>"
      ],
      "text/plain": [
       "                                             Comment Emotion\n",
       "0  i seriously hate one subject to death but now ...    fear\n",
       "1                 im so full of life i feel appalled   anger\n",
       "2  i sit here to write i start to dig out my feel...    fear\n",
       "3  ive been really angry with r and i feel like a...     joy\n",
       "4  i feel suspicious if there is no one outside l...    fear"
      ]
     },
     "execution_count": 1,
     "metadata": {},
     "output_type": "execute_result"
    }
   ],
   "source": [
    "import pandas as pd\n",
    "\n",
    "# Download the dataset\n",
    "data = pd.read_csv(\"C:/Users/sheej/Downloads/nlp_dataset.csv\")\n",
    "\n",
    "# Display the first few rows of the dataset\n",
    "data.head()\n"
   ]
  },
  {
   "cell_type": "markdown",
   "id": "49c724d4",
   "metadata": {},
   "source": [
    "# Preprocessing\n",
    "\n",
    "Text Cleaning, Tokenization, and Removal of Stopwords:\n",
    "\n",
    "Text preprocessing typically involves:\n",
    "\n",
    "Text Cleaning: Removing unwanted characters, URLs, special symbols, etc.\n",
    "\n",
    "Tokenization: Splitting text into words or tokens.\n",
    "\n",
    "Removal of Stopwords: Removing common words that don't contribute much to meaning."
   ]
  },
  {
   "cell_type": "code",
   "execution_count": 2,
   "id": "1e194392",
   "metadata": {},
   "outputs": [
    {
     "name": "stderr",
     "output_type": "stream",
     "text": [
      "[nltk_data] Downloading package stopwords to\n",
      "[nltk_data]     C:\\Users\\sheej\\AppData\\Roaming\\nltk_data...\n",
      "[nltk_data]   Package stopwords is already up-to-date!\n",
      "[nltk_data] Downloading package punkt to\n",
      "[nltk_data]     C:\\Users\\sheej\\AppData\\Roaming\\nltk_data...\n",
      "[nltk_data]   Package punkt is already up-to-date!\n"
     ]
    },
    {
     "name": "stdout",
     "output_type": "stream",
     "text": [
      "Columns: Index(['Comment', 'Emotion'], dtype='object')\n",
      "First few rows:\n",
      "                                              Comment Emotion\n",
      "0  i seriously hate one subject to death but now ...    fear\n",
      "1                 im so full of life i feel appalled   anger\n",
      "2  i sit here to write i start to dig out my feel...    fear\n",
      "3  ive been really angry with r and i feel like a...     joy\n",
      "4  i feel suspicious if there is no one outside l...    fear\n",
      "                                             Comment  \\\n",
      "0  i seriously hate one subject to death but now ...   \n",
      "1                 im so full of life i feel appalled   \n",
      "2  i sit here to write i start to dig out my feel...   \n",
      "3  ive been really angry with r and i feel like a...   \n",
      "4  i feel suspicious if there is no one outside l...   \n",
      "\n",
      "                                       clean_comment  \n",
      "0  seriously hate one subject death feel reluctan...  \n",
      "1                         im full life feel appalled  \n",
      "2  sit write start dig feelings think afraid acce...  \n",
      "3  ive really angry r feel like idiot trusting fi...  \n",
      "4  feel suspicious one outside like rapture happe...  \n"
     ]
    }
   ],
   "source": [
    "import pandas as pd\n",
    "import re\n",
    "from nltk.corpus import stopwords\n",
    "from nltk.tokenize import word_tokenize\n",
    "import nltk\n",
    "\n",
    "nltk.download('stopwords')\n",
    "nltk.download('punkt')\n",
    "\n",
    "# Load the dataset\n",
    "url = 'https://drive.google.com/uc?id=1HWczIICsMpaL8EJyu48ZvRFcXx3_pcnb'\n",
    "data = pd.read_csv(url)\n",
    "\n",
    "# Display the column names and first few rows to confirm\n",
    "print(\"Columns:\", data.columns)\n",
    "print(\"First few rows:\\n\", data.head())\n",
    "\n",
    "# Preprocessing function\n",
    "stop_words = set(stopwords.words('english'))\n",
    "\n",
    "def preprocess_text(text):\n",
    "    # Lowercase the text\n",
    "    text = text.lower()\n",
    "    # Remove URLs, special characters, and numbers\n",
    "    text = re.sub(r'http\\S+|www\\S+|https\\S+|[^a-zA-Z\\s]', '', text, flags=re.MULTILINE)\n",
    "    # Tokenization\n",
    "    tokens = word_tokenize(text)\n",
    "    # Remove stopwords\n",
    "    tokens = [word for word in tokens if word not in stop_words]\n",
    "    # Join tokens back to string\n",
    "    return ' '.join(tokens)\n",
    "\n",
    "# Apply preprocessing to the COMMENT column\n",
    "data['clean_comment'] = data['Comment'].apply(preprocess_text)\n",
    "\n",
    "# Display the cleaned text\n",
    "print(data[['Comment', 'clean_comment']].head())\n"
   ]
  },
  {
   "cell_type": "markdown",
   "id": "93714c92",
   "metadata": {},
   "source": [
    "# Feature Extraction\n",
    "We can use TfidfVectorizer to convert the text data into numerical features."
   ]
  },
  {
   "cell_type": "code",
   "execution_count": 3,
   "id": "8b7f0b68",
   "metadata": {},
   "outputs": [
    {
     "name": "stdout",
     "output_type": "stream",
     "text": [
      "Feature matrix shape: (5937, 8813)\n"
     ]
    }
   ],
   "source": [
    "from sklearn.feature_extraction.text import TfidfVectorizer\n",
    "\n",
    "# Initialize TfidfVectorizer\n",
    "vectorizer = TfidfVectorizer()\n",
    "X = vectorizer.fit_transform(data['clean_comment'])\n",
    "\n",
    "# Display the shape of the feature matrix\n",
    "print(\"Feature matrix shape:\", X.shape)\n"
   ]
  },
  {
   "cell_type": "markdown",
   "id": "8b0d07b6",
   "metadata": {},
   "source": [
    "# Model Development\n",
    "\n",
    "Train-Test Split and Model Training\n",
    "\n",
    "We can split the data into training and testing sets, and then train the Naive Bayes and Support Vector Machine models."
   ]
  },
  {
   "cell_type": "code",
   "execution_count": 4,
   "id": "9e368ed7",
   "metadata": {},
   "outputs": [
    {
     "name": "stdout",
     "output_type": "stream",
     "text": [
      "Naive Bayes Classification Report:\n",
      "               precision    recall  f1-score   support\n",
      "\n",
      "       anger       0.87      0.94      0.91       600\n",
      "        fear       0.93      0.88      0.91       614\n",
      "         joy       0.91      0.89      0.90       568\n",
      "\n",
      "    accuracy                           0.90      1782\n",
      "   macro avg       0.91      0.90      0.90      1782\n",
      "weighted avg       0.91      0.90      0.90      1782\n",
      "\n",
      "SVM Classification Report:\n",
      "               precision    recall  f1-score   support\n",
      "\n",
      "       anger       0.93      0.93      0.93       600\n",
      "        fear       0.97      0.87      0.92       614\n",
      "         joy       0.87      0.98      0.92       568\n",
      "\n",
      "    accuracy                           0.92      1782\n",
      "   macro avg       0.93      0.92      0.92      1782\n",
      "weighted avg       0.93      0.92      0.92      1782\n",
      "\n"
     ]
    }
   ],
   "source": [
    "from sklearn.model_selection import train_test_split\n",
    "from sklearn.naive_bayes import MultinomialNB\n",
    "from sklearn.svm import SVC\n",
    "from sklearn.metrics import classification_report\n",
    "\n",
    "# Extract features and target variable\n",
    "X = vectorizer.fit_transform(data['clean_comment'])\n",
    "y = data['Emotion']\n",
    "\n",
    "# Split data into train and test sets\n",
    "X_train, X_test, y_train, y_test = train_test_split(X, y, test_size=0.3, random_state=42)\n",
    "\n",
    "# Naive Bayes Model\n",
    "nb_model = MultinomialNB()\n",
    "nb_model.fit(X_train, y_train)\n",
    "nb_predictions = nb_model.predict(X_test)\n",
    "print(\"Naive Bayes Classification Report:\\n\", classification_report(y_test, nb_predictions))\n",
    "\n",
    "# Support Vector Machine Model\n",
    "svm_model = SVC()\n",
    "svm_model.fit(X_train, y_train)\n",
    "svm_predictions = svm_model.predict(X_test)\n",
    "print(\"SVM Classification Report:\\n\", classification_report(y_test, svm_predictions))\n"
   ]
  },
  {
   "cell_type": "markdown",
   "id": "e2b70e02",
   "metadata": {},
   "source": [
    "# Comparing model performance\n",
    "\n",
    "After obtaining the classification reports, we can compare their metrics.\n",
    "\n",
    "SVM model consistently shows higher accuracy, precision, recall, and F1-scores across different classes compared to the Naive Bayes model.\n",
    "\n",
    "So SVM model is considered better."
   ]
  },
  {
   "cell_type": "code",
   "execution_count": null,
   "id": "e4f2dac9",
   "metadata": {},
   "outputs": [],
   "source": []
  }
 ],
 "metadata": {
  "kernelspec": {
   "display_name": "Python 3 (ipykernel)",
   "language": "python",
   "name": "python3"
  },
  "language_info": {
   "codemirror_mode": {
    "name": "ipython",
    "version": 3
   },
   "file_extension": ".py",
   "mimetype": "text/x-python",
   "name": "python",
   "nbconvert_exporter": "python",
   "pygments_lexer": "ipython3",
   "version": "3.11.5"
  }
 },
 "nbformat": 4,
 "nbformat_minor": 5
}
